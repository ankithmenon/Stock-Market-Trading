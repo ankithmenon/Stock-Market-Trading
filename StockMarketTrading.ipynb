{
  "nbformat": 4,
  "nbformat_minor": 0,
  "metadata": {
    "colab": {
      "name": "StockMarketTrading.ipynb",
      "provenance": [],
      "collapsed_sections": [],
      "authorship_tag": "ABX9TyPhUIuiHNndQN54DJ76A3VK",
      "include_colab_link": true
    },
    "kernelspec": {
      "name": "python3",
      "display_name": "Python 3"
    }
  },
  "cells": [
    {
      "cell_type": "markdown",
      "metadata": {
        "id": "view-in-github",
        "colab_type": "text"
      },
      "source": [
        "<a href=\"https://colab.research.google.com/github/ankithmenon/Stock-Market-Trading/blob/master/StockMarketTrading.ipynb\" target=\"_parent\"><img src=\"https://colab.research.google.com/assets/colab-badge.svg\" alt=\"Open In Colab\"/></a>"
      ]
    },
    {
      "cell_type": "code",
      "metadata": {
        "id": "mvqsyZx_MPS9",
        "colab_type": "code",
        "colab": {}
      },
      "source": [
        "import pandas as pd\n",
        "import numpy\n",
        "import pandas_datareader as web\n",
        "import matplotlib.pyplot as plt\n",
        "from matplotlib import style\n",
        "import sklearn\n",
        "import datetime as dt\n"
      ],
      "execution_count": 0,
      "outputs": []
    },
    {
      "cell_type": "code",
      "metadata": {
        "id": "PW1MK6zENZ10",
        "colab_type": "code",
        "colab": {}
      },
      "source": [
        "style.use('ggplot')\n",
        "\n",
        "# start = dt.datetime(2000, 1, 1)\n",
        "# end = dt.datetime(2016, 12, 31)\n",
        "\n",
        "# stock info taken from Tesla\n",
        "# df = web.DataReader('TSLA', 'yahoo', start, end)  \n",
        "# print(df.head())  # shows first 5 rows\n",
        "# print(df.shape)\n",
        "print(\"\\n\")\n",
        "# print(df.tail())  # shows last 5 rows\n",
        "\n",
        "# df.to_csv('tsla.csv')\n",
        "\n",
        "\n",
        "df = pd.read_csv('tsla.csv', parse_dates = True, index_col = 0)\n",
        "\n",
        "# print(df.head())\n",
        "\n",
        "print(df[['Open','High']].head())\n",
        "\n",
        "df['Adj Close'].plot()\n",
        "plt.show()\n"
      ],
      "execution_count": 0,
      "outputs": []
    },
    {
      "cell_type": "code",
      "metadata": {
        "id": "0wFT75cZUlaD",
        "colab_type": "code",
        "colab": {
          "base_uri": "https://localhost:8080/",
          "height": 432
        },
        "outputId": "66fd7e90-9f12-41ac-e753-9afd2994050c"
      },
      "source": [
        "style.use('ggplot')\n",
        "df = pd.read_csv('tsla.csv', parse_dates = True, index_col = 0)\n",
        "\n",
        "# 100ma col added. This col is mean of current row and 99 prev rows of Adj Close  values\n",
        "df['100ma'] = df['Adj Close'].rolling(window = 100, min_periods = 0).mean()\n",
        "# df.dropna(inplace=True)  # this drops all rows having NaN columns. First 100 cols will have NaN because there is no prev cols for it\n",
        "# to prevent this, we add min_periods = 0  option above. Every row takes Adj Close value average now (not just average of 100)\n",
        "\n",
        "print(df.head())\n",
        "\n",
        "# graph the dataframe just using Matplotlib.  (using pd.plot() uses Pandas and matplotlib)\n",
        "ax1 = plt.subplot2grid((6,1), (0,0), rowspan = 5, colspan = 1)\n",
        "ax2 = plt.subplot2grid((6,1), (5,0), rowspan = 1, colspan = 1)\n",
        "\n",
        "ax1.plot(df.index, df['Adj Close'])\n",
        "ax1.plot(df.index, df['100ma'])\n",
        "ax2.bar(df.index, df['Volume'])\n",
        "\n",
        "plt.show()\n",
        "\n",
        "\n",
        "\n"
      ],
      "execution_count": 48,
      "outputs": [
        {
          "output_type": "stream",
          "text": [
            "             High        Low       Open  ...    Volume  Adj Close      100ma\n",
            "Date                                     ...                                \n",
            "2010-06-29  25.00  17.540001  19.000000  ...  18766300  23.889999  23.889999\n",
            "2010-06-30  30.42  23.299999  25.790001  ...  17187100  23.830000  23.860000\n",
            "2010-07-01  25.92  20.270000  25.000000  ...   8218800  21.959999  23.226666\n",
            "2010-07-02  23.10  18.709999  23.000000  ...   5139800  19.200001  22.220000\n",
            "2010-07-06  20.00  15.830000  20.000000  ...   6866900  16.110001  20.998000\n",
            "\n",
            "[5 rows x 7 columns]\n"
          ],
          "name": "stdout"
        },
        {
          "output_type": "display_data",
          "data": {
            "image/png": "[encoded data removed]",
            "text/plain": [
              "<Figure size 432x288 with 2 Axes>"
            ]
          },
          "metadata": {
            "tags": []
          }
        }
      ]
    },
    {
      "cell_type": "code",
      "metadata": {
        "id": "HgC0x66LVWI5",
        "colab_type": "code",
        "colab": {}
      },
      "source": [
        ""
      ],
      "execution_count": 0,
      "outputs": []
    }
  ]
}