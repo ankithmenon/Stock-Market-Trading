{
  "nbformat": 4,
  "nbformat_minor": 0,
  "metadata": {
    "colab": {
      "name": "StockMarketTrading.ipynb",
      "provenance": [],
      "collapsed_sections": [],
      "authorship_tag": "ABX9TyNGGVtctQtWvHr4hvUdR8Wd",
      "include_colab_link": true
    },
    "kernelspec": {
      "name": "python3",
      "display_name": "Python 3"
    }
  },
  "cells": [
    {
      "cell_type": "markdown",
      "metadata": {
        "id": "view-in-github",
        "colab_type": "text"
      },
      "source": [
        "<a href=\"https://colab.research.google.com/github/ankithmenon/Stock-Market-Trading/blob/master/StockMarketTrading.ipynb\" target=\"_parent\"><img src=\"https://colab.research.google.com/assets/colab-badge.svg\" alt=\"Open In Colab\"/></a>"
      ]
    },
    {
      "cell_type": "code",
      "metadata": {
        "id": "mvqsyZx_MPS9",
        "colab_type": "code",
        "colab": {}
      },
      "source": [
        "import pandas as pd\n",
        "import numpy\n",
        "import pandas_datareader as web\n",
        "import matplotlib.pyplot as plt\n",
        "from matplotlib import style\n",
        "import sklearn\n",
        "import datetime as dt\n"
      ],
      "execution_count": 0,
      "outputs": []
    },
    {
      "cell_type": "code",
      "metadata": {
        "id": "PW1MK6zENZ10",
        "colab_type": "code",
        "colab": {
          "base_uri": "https://localhost:8080/",
          "height": 184
        },
        "outputId": "2a42b199-b285-4422-f8a1-46191e3582b0"
      },
      "source": [
        "style.use('ggplot')\n",
        "\n",
        "start = dt.datetime(2000, 1, 1)\n",
        "end = dt.datetime(2016, 12, 31)\n",
        "\n",
        "# stock info taken from Tesla\n",
        "df = web.DataReader('TSLA', 'yahoo', start, end)  \n",
        "print(df.head())  # shows first 5 rows\n",
        "# print(df.shape)\n",
        "print(\"\\n\")\n",
        "# print(df.tail())  # shows last 5 rows\n",
        "\n",
        "df.to_csv('tsla.csv')\n",
        "\n",
        "\n",
        "\n",
        "\n",
        "\n",
        "\n",
        "\n",
        "\n",
        "\n",
        "\n",
        "\n",
        "\n",
        "\n"
      ],
      "execution_count": 22,
      "outputs": [
        {
          "output_type": "stream",
          "text": [
            "             High        Low       Open      Close    Volume  Adj Close\n",
            "Date                                                                   \n",
            "2010-06-29  25.00  17.540001  19.000000  23.889999  18766300  23.889999\n",
            "2010-06-30  30.42  23.299999  25.790001  23.830000  17187100  23.830000\n",
            "2010-07-01  25.92  20.270000  25.000000  21.959999   8218800  21.959999\n",
            "2010-07-02  23.10  18.709999  23.000000  19.200001   5139800  19.200001\n",
            "2010-07-06  20.00  15.830000  20.000000  16.110001   6866900  16.110001\n",
            "\n",
            "\n"
          ],
          "name": "stdout"
        }
      ]
    }
  ]
}